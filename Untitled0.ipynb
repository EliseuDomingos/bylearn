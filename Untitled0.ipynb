{
  "nbformat": 4,
  "nbformat_minor": 0,
  "metadata": {
    "colab": {
      "name": "Untitled0.ipynb",
      "provenance": [],
      "collapsed_sections": [],
      "authorship_tag": "ABX9TyOphQ004okh8tc2MYsLWTGI",
      "include_colab_link": true
    },
    "kernelspec": {
      "name": "python3",
      "display_name": "Python 3"
    }
  },
  "cells": [
    {
      "cell_type": "markdown",
      "metadata": {
        "id": "view-in-github",
        "colab_type": "text"
      },
      "source": [
        "<a href=\"https://colab.research.google.com/github/EliseuDomingos/bylearn/blob/main/Untitled0.ipynb\" target=\"_parent\"><img src=\"https://colab.research.google.com/assets/colab-badge.svg\" alt=\"Open In Colab\"/></a>"
      ]
    },
    {
      "cell_type": "code",
      "metadata": {
        "id": "oolQvvkwwaWx"
      },
      "source": [
        ""
      ],
      "execution_count": null,
      "outputs": []
    },
    {
      "cell_type": "markdown",
      "metadata": {
        "id": "0HCZsnJwwbQf"
      },
      "source": [
        "**Aula 3 Jornada Python **\r\n",
        "\r\n",
        "**TEMA: CONDICIONAIS**\r\n",
        "\r\n",
        "Condicionais é forma de atribuir uma logica ao nosso codgio. \r\n",
        "\r\n",
        "\r\n",
        "Praticamente todo codifo em algum momento terá de tomar uma decisão. \r\n",
        "\r\n",
        "*\"se isso...então aquilo!\"*\r\n",
        "*\"seão, se...então isso!\"*\r\n",
        "*\"senão...então isso outro!\"*\r\n",
        "\r\n",
        "\r\n",
        "Exemplos de condições... \r\n",
        "\r\n",
        "*se estiver nublado leva um sonbrinha *\r\n",
        "*senão, se estiver frio, então saia agasalhado *\r\n",
        "*se não, então você que saber *\r\n",
        "\r\n",
        "Paalavras chaves...\r\n",
        "if = correspondente a se\r\n",
        "elif = correspondente a senão, se\r\n",
        "else = senão \r\n",
        "\r\n",
        "Exemplo: \r\n",
        "\r\n",
        "Se estiver quente: \r\n",
        "  * Tomar sorvete \r\n",
        "  *  vamos a praia \r\n",
        "\r\n",
        "  \r\n",
        "Se estiver frio \r\n",
        "  * comer chocolate \r\n",
        "  * vamos ao cinema \r\n",
        "\r\n",
        "\r\n",
        "\r\n"
      ]
    },
    {
      "cell_type": "code",
      "metadata": {
        "colab": {
          "base_uri": "https://localhost:8080/"
        },
        "id": "_JObfId7zTko",
        "outputId": "a8759a30-f5d4-449d-9315-903a8a7022a6"
      },
      "source": [
        "# Condicionais \r\n",
        "temperatura = 'quente'\r\n",
        "if temperatura == 'quente':\r\n",
        "    print('Vamos tomar sorvete ')\r\n",
        "    print('Vamos para praia')\r\n",
        "else:\r\n",
        "    print('Vammos comer chocolate')\r\n",
        "    print('Vamos ao cinema')\r\n"
      ],
      "execution_count": null,
      "outputs": [
        {
          "output_type": "stream",
          "text": [
            "Vamos tomar sorvete \n",
            "Vamos para praia\n"
          ],
          "name": "stdout"
        }
      ]
    },
    {
      "cell_type": "code",
      "metadata": {
        "colab": {
          "base_uri": "https://localhost:8080/"
        },
        "id": "nzyhPnRg0un_",
        "outputId": "2f67ce25-1c3c-4bee-c415-049b66d2a611"
      },
      "source": [
        "temperatura = 'quente'\r\n",
        "if temperatura == 'frio':\r\n",
        "    print('Vamos tomar sorvete ')\r\n",
        "    print('Vamos para praia')\r\n",
        "else:\r\n",
        "    print('Vammos comer chocolate')\r\n",
        "    print('Vamos ao cinema')\r\n"
      ],
      "execution_count": null,
      "outputs": [
        {
          "output_type": "stream",
          "text": [
            "Vammos comer chocolate\n",
            "Vamos ao cinema\n"
          ],
          "name": "stdout"
        }
      ]
    },
    {
      "cell_type": "code",
      "metadata": {
        "colab": {
          "base_uri": "https://localhost:8080/"
        },
        "id": "Il3PB3q60xbY",
        "outputId": "73c328fa-d82d-40ef-84a6-c24248cede2c"
      },
      "source": [
        "numero = 20\r\n",
        "if numero < 20:\r\n",
        "    print('É numero pequeno')\r\n",
        "elif numero == 20:\r\n",
        "  print('Numero é igual a 20')\r\n",
        "else:\r\n",
        "    print('Numero maior que 20')\r\n"
      ],
      "execution_count": null,
      "outputs": [
        {
          "output_type": "stream",
          "text": [
            "Numero é igual a 20\n"
          ],
          "name": "stdout"
        }
      ]
    },
    {
      "cell_type": "code",
      "metadata": {
        "colab": {
          "base_uri": "https://localhost:8080/"
        },
        "id": "cHz0SAEB1Q6e",
        "outputId": "9cc36757-3c62-4755-9184-dae3c0cd5781"
      },
      "source": [
        "numero = 22\r\n",
        "if numero < 20:\r\n",
        "    print('É numero pequeno')\r\n",
        "elif numero == 20:\r\n",
        "  print('Numero é igual a 20')\r\n",
        "else:\r\n",
        "    print('Numero maior que 20')\r\n"
      ],
      "execution_count": null,
      "outputs": [
        {
          "output_type": "stream",
          "text": [
            "Numero maior que 20\n"
          ],
          "name": "stdout"
        }
      ]
    },
    {
      "cell_type": "code",
      "metadata": {
        "colab": {
          "base_uri": "https://localhost:8080/"
        },
        "id": "PsYr_s2h1UDI",
        "outputId": "f6a444fa-ac3b-44bc-a94d-aee48fb4885b"
      },
      "source": [
        "numero = 18\r\n",
        "if numero < 20:\r\n",
        "    print('É numero pequeno')\r\n",
        "elif numero == 20:\r\n",
        "  print('Numero é igual a 20')\r\n",
        "else:\r\n",
        "    print('Numero maior que 20')\r\n"
      ],
      "execution_count": null,
      "outputs": [
        {
          "output_type": "stream",
          "text": [
            "É numero pequeno\n"
          ],
          "name": "stdout"
        }
      ]
    },
    {
      "cell_type": "markdown",
      "metadata": {
        "id": "-Gk-M09g1nLs"
      },
      "source": [
        "Codições \r\n",
        "\r\n",
        "Igualidade == \r\n",
        "Menor <\r\n",
        "Maior >\r\n",
        "Menor ou igual <=\r\n",
        "Maior ou idual >=\r\n",
        "Diferente !=\r\n"
      ]
    },
    {
      "cell_type": "code",
      "metadata": {
        "colab": {
          "base_uri": "https://localhost:8080/"
        },
        "id": "ntAJ57Sw1zy8",
        "outputId": "3a9405e6-715c-44af-ce1c-c9faa9fcbf7f"
      },
      "source": [
        "#1, 3, 5 (numero da sorte)\r\n",
        "numero = 5\r\n",
        "if numero == 1:\r\n",
        "  print('Você ganhou')\r\n",
        "elif numero == 3:\r\n",
        "  print('Você ganhou')\r\n",
        "elif numero == 5:\r\n",
        "  print('Você ganhou')\r\n",
        "else:\r\n",
        "  print('Você perdeu')"
      ],
      "execution_count": null,
      "outputs": [
        {
          "output_type": "stream",
          "text": [
            "Você ganhou\n"
          ],
          "name": "stdout"
        }
      ]
    },
    {
      "cell_type": "code",
      "metadata": {
        "id": "nIL3X5BX45Z-"
      },
      "source": [
        ""
      ],
      "execution_count": null,
      "outputs": []
    },
    {
      "cell_type": "code",
      "metadata": {
        "colab": {
          "base_uri": "https://localhost:8080/"
        },
        "id": "rMRRb6BG2js3",
        "outputId": "52985095-e730-475b-e6dd-3e95130d82b6"
      },
      "source": [
        "nome = 'Eliseu'\r\n",
        "sobreNome = 'Domingos'\r\n",
        "if nome == 'Eliseu' and sobreNome == 'Domingos':\r\n",
        "  print(f'É o {nome} {sobreNome}')\r\n",
        "else: \r\n",
        "  print(f'É outro {nome}')"
      ],
      "execution_count": null,
      "outputs": [
        {
          "output_type": "stream",
          "text": [
            "É o Eliseu Domingos\n"
          ],
          "name": "stdout"
        }
      ]
    },
    {
      "cell_type": "markdown",
      "metadata": {
        "id": "daZHxdbF4dQU"
      },
      "source": [
        "#Operadores logicos \r\n",
        "\r\n",
        "Os operadores logicos server para juntar duas ou mai coidições \r\n",
        "\r\n",
        "end = equivalente a 'e'\r\n",
        "or = equivalente a 'or'\r\n",
        "\r\n",
        "\r\n"
      ]
    },
    {
      "cell_type": "code",
      "metadata": {
        "colab": {
          "base_uri": "https://localhost:8080/"
        },
        "id": "6P5zTgqk47L8",
        "outputId": "d4d153c0-7f96-4f43-82c0-69798148d87c"
      },
      "source": [
        "#1, 3, 5 (numero da sorte)\r\n",
        "numero = 5\r\n",
        "if numero == 1 or numero == 3 or numero == 5:\r\n",
        "  print('Você ganhou')\r\n",
        "else:\r\n",
        "  print('Você perdeu')"
      ],
      "execution_count": null,
      "outputs": [
        {
          "output_type": "stream",
          "text": [
            "Você ganhou\n"
          ],
          "name": "stdout"
        }
      ]
    },
    {
      "cell_type": "code",
      "metadata": {
        "colab": {
          "base_uri": "https://localhost:8080/"
        },
        "id": "0yvJ_Vla62kX",
        "outputId": "2372a79b-d08b-4d89-af10-2ae8244a47f2"
      },
      "source": [
        "#1, 3, 5 (numero da sorte)\r\n",
        "lista = [1, 3, 5]\r\n",
        "if numero in lista:\r\n",
        "  print('Você ganhou')\r\n",
        "else:\r\n",
        "  print('Você perdeu')"
      ],
      "execution_count": null,
      "outputs": [
        {
          "output_type": "stream",
          "text": [
            "Você ganhou\n"
          ],
          "name": "stdout"
        }
      ]
    },
    {
      "cell_type": "markdown",
      "metadata": {
        "id": "T4beXi-NZpD1"
      },
      "source": [
        "#Extrututa de Repetição\r\n",
        "\r\n",
        "Extrutura de repetição serve para executar uma ação repetidas vezes \r\n",
        "\r\n"
      ]
    },
    {
      "cell_type": "code",
      "metadata": {
        "colab": {
          "base_uri": "https://localhost:8080/"
        },
        "id": "-jNm7X_paCGC",
        "outputId": "c0a01856-877c-460b-b52d-18c5b17c7dc3"
      },
      "source": [
        "#Imprimir de 1 a 10\r\n",
        "print(1)\r\n",
        "print(2)\r\n",
        "print(3)\r\n",
        "print(4)\r\n",
        "print(5)\r\n",
        "print(6)\r\n",
        "print(7)\r\n",
        "print(8)\r\n",
        "print(9)\r\n",
        "print(10)\r\n"
      ],
      "execution_count": null,
      "outputs": [
        {
          "output_type": "stream",
          "text": [
            "1\n",
            "2\n",
            "3\n",
            "4\n",
            "5\n",
            "6\n",
            "7\n",
            "8\n",
            "9\n",
            "10\n"
          ],
          "name": "stdout"
        }
      ]
    },
    {
      "cell_type": "code",
      "metadata": {
        "colab": {
          "base_uri": "https://localhost:8080/"
        },
        "id": "7nqPWWPRaZxw",
        "outputId": "5342fe58-c94a-466b-b9b0-19cadf00e8a3"
      },
      "source": [
        "#fazer o mesmo codigo acima, usado extrutura de repetição\r\n",
        "for numero in range(0,10):\r\n",
        "  print(numero)"
      ],
      "execution_count": null,
      "outputs": [
        {
          "output_type": "stream",
          "text": [
            "0\n",
            "1\n",
            "2\n",
            "3\n",
            "4\n",
            "5\n",
            "6\n",
            "7\n",
            "8\n",
            "9\n"
          ],
          "name": "stdout"
        }
      ]
    },
    {
      "cell_type": "code",
      "metadata": {
        "colab": {
          "base_uri": "https://localhost:8080/"
        },
        "id": "s4l4mI6wbbs8",
        "outputId": "8ce33442-3114-4986-ae62-71c6c4afe546"
      },
      "source": [
        "#intervalo de numero de 3 a 8\r\n",
        "for numero in range(3,8):\r\n",
        "  print(numero)"
      ],
      "execution_count": null,
      "outputs": [
        {
          "output_type": "stream",
          "text": [
            "3\n",
            "4\n",
            "5\n",
            "6\n",
            "7\n"
          ],
          "name": "stdout"
        }
      ]
    },
    {
      "cell_type": "code",
      "metadata": {
        "colab": {
          "base_uri": "https://localhost:8080/"
        },
        "id": "P3yyNbKnbnI_",
        "outputId": "c2c2f8bf-ab59-4574-a880-55b69c920e4c"
      },
      "source": [
        "#intervalo de 3 a 16, pulando de 2 em 2 \r\n",
        "for numero in range(3,16, 2):\r\n",
        "  print(numero)"
      ],
      "execution_count": null,
      "outputs": [
        {
          "output_type": "stream",
          "text": [
            "3\n",
            "5\n",
            "7\n",
            "9\n",
            "11\n",
            "13\n",
            "15\n"
          ],
          "name": "stdout"
        }
      ]
    },
    {
      "cell_type": "code",
      "metadata": {
        "colab": {
          "base_uri": "https://localhost:8080/"
        },
        "id": "9E0VvP2nbzeZ",
        "outputId": "1d535de3-c07b-422d-cc68-56002cc6edb0"
      },
      "source": [
        "#condiçao dentro ddo for \r\n",
        "#Numeros do intervalo de 1 a 10\r\n",
        "for numero in range(3, 11):\r\n",
        "  if numero % 2 == 0:\r\n",
        "    print('O numero'   , numero, 'é par ')\r\n",
        "  else:\r\n",
        "    print('O numero',   numero, 'é impar ')"
      ],
      "execution_count": null,
      "outputs": [
        {
          "output_type": "stream",
          "text": [
            "O numero 3 é impar \n",
            "O numero 4 é par \n",
            "O numero 5 é impar \n",
            "O numero 6 é par \n",
            "O numero 7 é impar \n",
            "O numero 8 é par \n",
            "O numero 9 é impar \n",
            "O numero 10 é par \n"
          ],
          "name": "stdout"
        }
      ]
    },
    {
      "cell_type": "code",
      "metadata": {
        "colab": {
          "base_uri": "https://localhost:8080/"
        },
        "id": "mMbaXZRUd1mg",
        "outputId": "044ab2a8-3194-4789-ef4f-975d4d8fc942"
      },
      "source": [
        "#Achar a media de uma lista...\r\n",
        "# As litas podem servir para criação de menus, ou armazenamento de notas...\r\n",
        "notas = [10, 8]\r\n",
        "soma = 0 \r\n",
        "for nota in notas:\r\n",
        "  soma = soma + nota\r\n",
        "media = soma / 2\r\n",
        "print(media)"
      ],
      "execution_count": null,
      "outputs": [
        {
          "output_type": "stream",
          "text": [
            "9.0\n"
          ],
          "name": "stdout"
        }
      ]
    },
    {
      "cell_type": "code",
      "metadata": {
        "colab": {
          "base_uri": "https://localhost:8080/"
        },
        "id": "76iidNy8eqnj",
        "outputId": "a98abb3c-1351-490a-befe-7569ea30e103"
      },
      "source": [
        "#Achar a media de uma lista...\r\n",
        "# As litas podem servir para criação de menus, ou armazenamento de notas...\r\n",
        "#Achar a media, usando a len \r\n",
        "# Len verifica a quantidade de elementos....\r\n",
        "\r\n",
        "notas = [10, 8, 9, 8, 10]\r\n",
        "soma = 0 \r\n",
        "for nota in notas:\r\n",
        "  soma = soma + nota\r\n",
        "media = soma / len(notas)\r\n",
        "print(len(notas))\r\n",
        "print(media)"
      ],
      "execution_count": null,
      "outputs": [
        {
          "output_type": "stream",
          "text": [
            "5\n",
            "9.0\n"
          ],
          "name": "stdout"
        }
      ]
    },
    {
      "cell_type": "code",
      "metadata": {
        "colab": {
          "base_uri": "https://localhost:8080/"
        },
        "id": "rx4qZu_0fMyS",
        "outputId": "32204ab7-6767-4a2e-edf3-a10fffa978aa"
      },
      "source": [
        "#Tornando o codigo mais facil e dinamico\r\n",
        "notas = [10, 8, 9, 8, 10]\r\n",
        "sum(notas)\r\n",
        "media = sum(notas)/len(notas)\r\n",
        "print(media)"
      ],
      "execution_count": null,
      "outputs": [
        {
          "output_type": "stream",
          "text": [
            "9.0\n"
          ],
          "name": "stdout"
        }
      ]
    },
    {
      "cell_type": "markdown",
      "metadata": {
        "id": "BmbSYeArgBSG"
      },
      "source": [
        "#Função \r\n",
        "\r\n",
        "Função é a outra forma de evitar repitaçao de um codigo através de uma função, onde definimos uma rotina a ser executada:\r\n",
        "Por exemplo definir o que fazer se um alno foi aprovado. \r\n",
        "\r\n",
        "Para definir uma função usaos  def.\r\n",
        "Função podem retornar valores.\r\n",
        "Podemos enviar valores para função.\r\n",
        " "
      ]
    },
    {
      "cell_type": "code",
      "metadata": {
        "colab": {
          "base_uri": "https://localhost:8080/"
        },
        "id": "OrxcVwlthuIy",
        "outputId": "abc53b0c-169b-4c73-e403-5edd5a266884"
      },
      "source": [
        "#Função de calcular media \r\n",
        "\r\n",
        "def nomeAluno(nome):\r\n",
        "  return nome\r\n",
        "\r\n",
        "def cabecalho(nome):\r\n",
        "  print('~'*len(nome))\r\n",
        "\r\n",
        "def calcularMedia(notas):\r\n",
        "  quantidade = len(notas)\r\n",
        "  soma = sum(notas)\r\n",
        "  media = soma/quantidade\r\n",
        "  return media\r\n",
        "\r\n",
        "def verificarMedia(nome, media):\r\n",
        "  if media >= 10:\r\n",
        "    cabecalho(nome)\r\n",
        "    print(f'{aluno} aprovado com {media} valores')\r\n",
        "    cabecalho(nome)\r\n",
        "\r\n",
        "  else:\r\n",
        "    cabecalho(nome)\r\n",
        "    print(f'{aluno} reprovado com {media} valores' )\r\n",
        "    cabecalho(nome)\r\n",
        "\r\n",
        "\r\n",
        "aluno = nomeAluno('Eliseu Domingos')\r\n",
        "notas = [10, 8, 9]\r\n",
        "media = calcularMedia(notas)  \r\n",
        "verificarMedia(aluno, media)\r\n"
      ],
      "execution_count": null,
      "outputs": [
        {
          "output_type": "stream",
          "text": [
            "~~~~~~~~~~~~~~~\n",
            "Eliseu Domingos reprovado com 9.0 valores\n",
            "~~~~~~~~~~~~~~~\n"
          ],
          "name": "stdout"
        }
      ]
    },
    {
      "cell_type": "code",
      "metadata": {
        "colab": {
          "base_uri": "https://localhost:8080/"
        },
        "id": "lt22Du81ng8g",
        "outputId": "3efa3be5-5964-4f3f-fd8e-935d01b7dfef"
      },
      "source": [
        "#Mais exemplos de função...\r\n",
        "#calculo do IMC, calculo di indice de massa corporal \r\n",
        "\r\n",
        "def numeroQuadrado(numero):\r\n",
        "  quadrado = numero**2 \r\n",
        "  return quadrado\r\n",
        "\r\n",
        "def imc(altura, peso, nome):\r\n",
        "  altura_quadrada = altura**2\r\n",
        "  print(f'{nome}, seu Imc é {meu_imc:.2f}')\r\n",
        "  return altura_quadrada\r\n",
        "\r\n",
        "def nomePessoa(nome):\r\n",
        "  return nome\r\n",
        "\r\n",
        "meu_imc = imc(1.70, 60, 'Eliseu Domingos')\r\n"
      ],
      "execution_count": null,
      "outputs": [
        {
          "output_type": "stream",
          "text": [
            "Eliseu Domingos, seu Imc é 2.89\n"
          ],
          "name": "stdout"
        }
      ]
    }
  ]
}